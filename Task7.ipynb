{
  "nbformat": 4,
  "nbformat_minor": 0,
  "metadata": {
    "colab": {
      "provenance": []
    },
    "kernelspec": {
      "name": "python3",
      "display_name": "Python 3"
    },
    "language_info": {
      "name": "python"
    }
  },
  "cells": [
    {
      "cell_type": "code",
      "execution_count": 6,
      "metadata": {
        "colab": {
          "base_uri": "https://localhost:8080/",
          "height": 574
        },
        "id": "NXq0AYXERhZj",
        "outputId": "c6089bd3-130d-4af8-ee58-c0f5706bd359"
      },
      "outputs": [
        {
          "output_type": "stream",
          "name": "stdout",
          "text": [
            "Basic Sales Summary:\n",
            "    product  total_qty  revenue\n",
            "0    Apples         15     22.5\n",
            "1   Bananas         20     16.0\n",
            "2  Cherries          9     22.5\n"
          ]
        },
        {
          "output_type": "display_data",
          "data": {
            "text/plain": [
              "<Figure size 640x480 with 1 Axes>"
            ],
            "image/png": "[encoded data removed]"
          },
          "metadata": {}
        }
      ],
      "source": [
        "import sqlite3\n",
        "import pandas as pd\n",
        "import matplotlib.pyplot as plt\n",
        "\n",
        "# =========================\n",
        "# 1. Create Database & Table\n",
        "# =========================\n",
        "conn = sqlite3.connect(\"sales_data.db\")\n",
        "cursor = conn.cursor()\n",
        "\n",
        "cursor.execute(\"\"\"\n",
        "CREATE TABLE IF NOT EXISTS sales (\n",
        "    id INTEGER PRIMARY KEY AUTOINCREMENT,\n",
        "    product TEXT,\n",
        "    quantity INTEGER,\n",
        "    price REAL\n",
        ")\n",
        "\"\"\")\n",
        "\n",
        "# Clear any existing data for a clean run\n",
        "cursor.execute(\"DELETE FROM sales\")\n",
        "\n",
        "# Insert sample rows\n",
        "sample_data = [\n",
        "    (\"Apples\", 10, 1.5),\n",
        "    (\"Apples\", 5, 1.5),\n",
        "    (\"Bananas\", 8, 0.8),\n",
        "    (\"Bananas\", 12, 0.8),\n",
        "    (\"Cherries\", 6, 2.5),\n",
        "    (\"Cherries\", 3, 2.5)\n",
        "]\n",
        "cursor.executemany(\"INSERT INTO sales (product, quantity, price) VALUES (?, ?, ?)\", sample_data)\n",
        "\n",
        "conn.commit()\n",
        "\n",
        "# =========================\n",
        "# 2. Query Sales Summary\n",
        "# =========================\n",
        "query = \"\"\"\n",
        "SELECT product,\n",
        "       SUM(quantity) AS total_qty,\n",
        "       SUM(quantity * price) AS revenue\n",
        "FROM sales\n",
        "GROUP BY product\n",
        "\"\"\"\n",
        "df = pd.read_sql_query(query, conn)\n",
        "conn.close()\n",
        "\n",
        "# =========================\n",
        "# 3. Print Results\n",
        "# =========================\n",
        "print(\"Basic Sales Summary:\")\n",
        "print(df)\n",
        "\n",
        "# =========================\n",
        "# 4. Plot Bar Chart\n",
        "# =========================\n",
        "df.plot(kind='bar', x='product', y='revenue', legend=False, color='skyblue')\n",
        "plt.ylabel(\"Revenue ($)\")\n",
        "plt.title(\"Revenue by Product\")\n",
        "plt.xticks(rotation=45)\n",
        "plt.tight_layout()\n",
        "\n",
        "# Save chart as PNG\n",
        "plt.savefig(\"sales_chart.png\")\n",
        "plt.show()\n"
      ]
    },
    {
      "cell_type": "code",
      "source": [
        "!python sales_summary.py\n"
      ],
      "metadata": {
        "colab": {
          "base_uri": "https://localhost:8080/"
        },
        "id": "or_SomhtRoRR",
        "outputId": "0cf5c2b6-b375-44e4-8d37-766ffaffe660"
      },
      "execution_count": 7,
      "outputs": [
        {
          "output_type": "stream",
          "name": "stdout",
          "text": [
            "python3: can't open file '/content/sales_summary.py': [Errno 2] No such file or directory\n"
          ]
        }
      ]
    }
  ]
}